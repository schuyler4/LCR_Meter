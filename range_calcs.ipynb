{
 "cells": [
  {
   "cell_type": "markdown",
   "metadata": {},
   "source": [
    "First, a number of constants related to circuit are defined. The circuit is basically a sine wave oscillator that feeds an RC or RL circuit."
   ]
  },
  {
   "cell_type": "code",
   "execution_count": 21,
   "metadata": {},
   "outputs": [
    {
     "name": "stdout",
     "output_type": "stream",
     "text": [
      "2.4136740331491713\n"
     ]
    }
   ],
   "source": [
    "from math import sqrt, pi\n",
    "\n",
    "R = 1000 # Ohms\n",
    "FREQ = 100 # Hertz\n",
    "VOLTAGE = 5 # V\n",
    "\n",
    "ACCURACY = 0.01\n",
    "ADC_STEPS = 2896\n",
    "ADC_VOLTAGE_REFERENCE = 2.5 # V\n",
    "LSB = ADC_VOLTAGE_REFERENCE/ADC_STEPS # V\n",
    "DIVISION_RATIO = 2\n",
    "\n",
    "MINIMUM_ADC_VOLTAGE = (LSB/ACCURACY)\n",
    "MAXIMUM_ADC_VOLTAGE = (ADC_VOLTAGE_REFERENCE - MINIMUM_ADC_VOLTAGE)\n",
    "\n",
    "\n",
    "print(MAXIMUM_ADC_VOLTAGE)"
   ]
  },
  {
   "cell_type": "markdown",
   "metadata": {},
   "source": [
    "The following function gets the capacitance in the RC circuit given the voltage across the resistor. "
   ]
  },
  {
   "cell_type": "code",
   "execution_count": 22,
   "metadata": {},
   "outputs": [],
   "source": [
    "# CHANGE THE FUCKING FORMULA\n",
    "def get_capacitance(Vr, resistor_value):\n",
    "    I = Vr/resistor_value\n",
    "    w = 2*pi*FREQ\n",
    "    Xc = (VOLTAGE-Vr)/I\n",
    "    return 1/(w*Xc)"
   ]
  },
  {
   "cell_type": "markdown",
   "metadata": {},
   "source": [
    "Likewise, this function gets the inductance in the RL circuit given the voltage across the resistor. "
   ]
  },
  {
   "cell_type": "code",
   "execution_count": 23,
   "metadata": {},
   "outputs": [],
   "source": [
    "def get_inductance(Vr, resistor_value):\n",
    "    w = 2*pi*FREQ\n",
    "    inductance = ((1/((VOLTAGE/Vr)**2 - 1))*resistor_value**2)/w**2\n",
    "    print(inductance)\n",
    "    return inductance"
   ]
  },
  {
   "cell_type": "code",
   "execution_count": 24,
   "metadata": {},
   "outputs": [],
   "source": [
    "from enum import Enum\n",
    "\n",
    "DIGITS_TO_PRINT = 3\n",
    "\n",
    "class Prefix(Enum):\n",
    "    MICRO = 6\n",
    "    NANO = 9\n",
    "    PICO = 12\n",
    "\n",
    "\n",
    "class Component(Enum):\n",
    "    INDUCTOR = 1\n",
    "    CAPACITOR = 2\n",
    "\n",
    "\n",
    "def format_value(capacitance, component):\n",
    "    unit = None\n",
    "\n",
    "    if(component == Component.INDUCTOR):\n",
    "        unit = 'H'\n",
    "    elif(component == Component.CAPACITOR):\n",
    "        unit = 'F'\n",
    "\n",
    "    if(capacitance < 1e-3 and capacitance >= 1e-6):\n",
    "        capacitance_microfarads = capacitance/10**(-1*Prefix.MICRO.value)\n",
    "        return str(round(capacitance_microfarads, DIGITS_TO_PRINT)) + 'u' + unit\n",
    "    elif(capacitance < 1e-6 and capacitance >= 1e-9):\n",
    "        capacitance_nanofarads = capacitance/10**(-1*Prefix.NANO.value)\n",
    "        return str(round(capacitance_nanofarads, DIGITS_TO_PRINT)) + 'n' + unit\n",
    "    elif(capacitance < 1e-9):\n",
    "        capacitance_picofarads = capacitance/10**(-1*Prefix.PICO.value)\n",
    "        return str(round(capacitance_picofarads, DIGITS_TO_PRINT)) + 'p' + unit\n",
    "    \n",
    "assert format_value(1e-6, Component.CAPACITOR) == '1.0uF'\n",
    "assert format_value(1e-12, Component.CAPACITOR) == '1.0pF'"
   ]
  },
  {
   "cell_type": "code",
   "execution_count": 25,
   "metadata": {},
   "outputs": [
    {
     "name": "stdout",
     "output_type": "stream",
     "text": [
      "0.28179593559769683\n",
      "None\n",
      "2.4493243838199853e-05\n",
      "24.493uH\n",
      "494.441uF\n",
      "632.471nF\n",
      "28.179593559769682\n",
      "None\n",
      "0.0024493243838199855\n",
      "None\n",
      "49.444uF\n",
      "63.247nF\n",
      "2817.9593559769683\n",
      "None\n",
      "0.24493243838199852\n",
      "None\n",
      "4.944uF\n",
      "6.325nF\n",
      "281795.9355976968\n",
      "None\n",
      "24.493243838199856\n",
      "None\n",
      "494.441nF\n",
      "632.471pF\n"
     ]
    }
   ],
   "source": [
    "def print_range():\n",
    "    for i in range(1, 5):\n",
    "        resistor_value = (10**i)*9\n",
    "\n",
    "        max_first_digit = int(str(get_capacitance(MAXIMUM_ADC_VOLTAGE, resistor_value))[0])\n",
    "        min_first_digit = int(str(get_capacitance(MINIMUM_ADC_VOLTAGE, resistor_value))[0])\n",
    "\n",
    "        print(format_value(get_inductance(MAXIMUM_ADC_VOLTAGE*DIVISION_RATIO, resistor_value), Component.INDUCTOR))\n",
    "        print(format_value(get_inductance(MINIMUM_ADC_VOLTAGE*DIVISION_RATIO, resistor_value), Component.INDUCTOR))\n",
    "\n",
    "        print(format_value(get_capacitance(MAXIMUM_ADC_VOLTAGE*DIVISION_RATIO, resistor_value), Component.CAPACITOR))\n",
    "        print(format_value(get_capacitance(MINIMUM_ADC_VOLTAGE*DIVISION_RATIO, resistor_value), Component.CAPACITOR))\n",
    "\n",
    "        if(max_first_digit == 1 and min_first_digit == 1):\n",
    "            print(\"Resistance: \" + str(resistor_value) + \" ohms\")\n",
    "            print(format_value(get_capacitance(MAXIMUM_ADC_VOLTAGE*DIVISION_RATIO, resistor_value), Component.CAPACITOR))\n",
    "            print(format_value(get_capacitance(MINIMUM_ADC_VOLTAGE*DIVISION_RATIO, resistor_value), Component.CAPACITOR))\n",
    "\n",
    "        if(max_first_digit == 2 and min_first_digit == 1):\n",
    "            print(\"Resistance: \" + str(resistor_value) + \" ohms\")\n",
    "            print(format_value(get_capacitance(MAXIMUM_ADC_VOLTAGE*DIVISION_RATIO, resistor_value), Component.CAPACITOR))\n",
    "            print(format_value(get_capacitance(MINIMUM_ADC_VOLTAGE*DIVISION_RATIO, resistor_value), Component.CAPACITOR))\n",
    "\n",
    "        if(max_first_digit == 1 and min_first_digit == 2):\n",
    "            print(\"Resistance: \" + str(resistor_value) + \" ohms\")\n",
    "            print(format_value(get_capacitance(MAXIMUM_ADC_VOLTAGE*DIVISION_RATIO, resistor_value), Component.CAPACITOR))\n",
    "            print(format_value(get_capacitance(MINIMUM_ADC_VOLTAGE*DIVISION_RATIO, resistor_value), Component.CAPACITOR))\n",
    "        \n",
    "        if(max_first_digit == 2 and min_first_digit == 2):\n",
    "            print(\"Resistance: \" + str(resistor_value) + \" ohms\")\n",
    "            print(format_value(get_capacitance(MAXIMUM_ADC_VOLTAGE*DIVISION_RATIO, resistor_value), Component.CAPACITOR))\n",
    "            print(format_value(get_capacitance(MINIMUM_ADC_VOLTAGE*DIVISION_RATIO, resistor_value), Component.CAPACITOR))\n",
    "\n",
    "print_range()"
   ]
  },
  {
   "cell_type": "code",
   "execution_count": 26,
   "metadata": {},
   "outputs": [
    {
     "name": "stdout",
     "output_type": "stream",
     "text": [
      "4.233665079824153\n"
     ]
    }
   ],
   "source": [
    "w = 2*pi*100\n",
    "Xc = 1/(w*1e-6)\n",
    "Z = abs(1000 - 1j*Xc)\n",
    "I = 5/Z\n",
    "Vr = abs(I*1000)\n",
    "Vout = abs(I*Xc)\n",
    "\n",
    "print(Vout)\n",
    "\n"
   ]
  },
  {
   "cell_type": "markdown",
   "metadata": {},
   "source": [
    "An optimal frequency must be found that can measure both capacitors and inductors in the desired range. Aproximatly (1pF - 1uF) for capacitors and (1nH - 10uH) for inductors. "
   ]
  },
  {
   "cell_type": "code",
   "execution_count": 29,
   "metadata": {},
   "outputs": [
    {
     "data": {
      "image/png": "[encoded data removed]",
      "text/plain": [
       "<Figure size 640x480 with 1 Axes>"
      ]
     },
     "metadata": {},
     "output_type": "display_data"
    }
   ],
   "source": [
    "import matplotlib.pyplot as plt\n",
    "from math import pi\n",
    "\n",
    "INDUCTOR_VALUE = 1e-9\n",
    "CAPACITOR_VALUE = 1e-6\n",
    "\n",
    "def capacitor_reactance(f):\n",
    "    return 1/(2*pi*f*CAPACITOR_VALUE)\n",
    "\n",
    "\n",
    "def inductor_reactance(f):\n",
    "    return 2*pi*f*INDUCTOR_VALUE\n",
    "\n",
    "frequencies = [i for i in range(10000, 1000000)]\n",
    "\n",
    "variable_capacitor_reactance = [capacitor_reactance(freq) for freq in frequencies]\n",
    "variable_inductor_reactance = [inductor_reactance(freq) for freq in frequencies]\n",
    "\n",
    "plt.plot(frequencies, variable_capacitor_reactance)\n",
    "plt.plot(frequencies, variable_inductor_reactance)\n",
    "plt.xlabel('Frequency (Hz)')\n",
    "plt.ylabel('Reactance (Ohms)')\n",
    "\n",
    "plt.show()"
   ]
  }
 ],
 "metadata": {
  "kernelspec": {
   "display_name": "Python 3",
   "language": "python",
   "name": "python3"
  },
  "language_info": {
   "codemirror_mode": {
    "name": "ipython",
    "version": 3
   },
   "file_extension": ".py",
   "mimetype": "text/x-python",
   "name": "python",
   "nbconvert_exporter": "python",
   "pygments_lexer": "ipython3",
   "version": "3.10.12"
  }
 },
 "nbformat": 4,
 "nbformat_minor": 2
}
